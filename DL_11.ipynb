{
 "cells": [
  {
   "cell_type": "code",
   "execution_count": 1,
   "id": "a5c42cab-7404-49cb-8e47-86e37a6ea074",
   "metadata": {},
   "outputs": [],
   "source": [
    "import tensorflow as tf\n",
    "from tensorflow.keras.applications import MobileNetV2\n",
    "from tensorflow.keras.layers import GlobalMaxPool2D, Dense\n",
    "from tensorflow.keras.models import Model\n",
    "from tensorflow.keras.preprocessing.image import ImageDataGenerator\n",
    "from tensorflow.keras.optimizers import Adam\n",
    "import matplotlib.pyplot as plt\n",
    "import numpy as np"
   ]
  },
  {
   "cell_type": "code",
   "execution_count": 2,
   "id": "f7c84595-aead-4fde-8e66-041435317b13",
   "metadata": {},
   "outputs": [],
   "source": [
    "base_model = MobileNetV2(weights='imagenet', include_top=False, input_shape=(224,224,3))"
   ]
  },
  {
   "cell_type": "code",
   "execution_count": 3,
   "id": "15dfdcf8-413b-4292-b636-e17a98f41199",
   "metadata": {},
   "outputs": [],
   "source": [
    "base_model.trainable = False"
   ]
  },
  {
   "cell_type": "code",
   "execution_count": 4,
   "id": "14908b1e-3f2f-4cd1-af0e-2e83f83d028d",
   "metadata": {},
   "outputs": [],
   "source": [
    "x = base_model.output\n",
    "x = GlobalMaxPool2D()(x)\n",
    "x = Dense(128, activation='relu')(x)\n",
    "predictions = Dense(5, activation='softmax')(x)"
   ]
  },
  {
   "cell_type": "code",
   "execution_count": 5,
   "id": "4b0456ae-869d-4c22-b221-4900474b35c7",
   "metadata": {},
   "outputs": [],
   "source": [
    "model = Model(inputs = base_model.input , outputs = predictions)"
   ]
  },
  {
   "cell_type": "code",
   "execution_count": 6,
   "id": "f124ba70-a308-416e-8d44-93daef2fcf8a",
   "metadata": {},
   "outputs": [],
   "source": [
    "model.compile(optimizer=Adam(learning_rate=0.001), loss='categorical_crossentropy', metrics=['accuracy'])"
   ]
  },
  {
   "cell_type": "code",
   "execution_count": 7,
   "id": "f51966ee-ad1f-4e7a-8be8-f2ac1245af08",
   "metadata": {},
   "outputs": [],
   "source": [
    "datagen = ImageDataGenerator(\n",
    "    rescale=1. /255,\n",
    "    validation_split=0.2,\n",
    "    horizontal_flip=True,\n",
    "    zoom_range=0.2,\n",
    "    shear_range=0.2\n",
    ")"
   ]
  },
  {
   "cell_type": "code",
   "execution_count": 8,
   "id": "0caf6bc2-1dfe-4edc-935a-3955ed5d9606",
   "metadata": {},
   "outputs": [
    {
     "name": "stdout",
     "output_type": "stream",
     "text": [
      "Found 2602 images belonging to 5 classes.\n"
     ]
    }
   ],
   "source": [
    "train_datagen = datagen.flow_from_directory(\n",
    "    \"Datasets/11 Flowers/train\",\n",
    "    target_size=(224,224),\n",
    "    batch_size=32,\n",
    "    class_mode='categorical',\n",
    "    subset='training'\n",
    ")"
   ]
  },
  {
   "cell_type": "code",
   "execution_count": 9,
   "id": "af6502cd-3702-4159-82d9-305a191d75d9",
   "metadata": {},
   "outputs": [
    {
     "name": "stdout",
     "output_type": "stream",
     "text": [
      "Found 104 images belonging to 5 classes.\n"
     ]
    }
   ],
   "source": [
    "validation_datagen = datagen.flow_from_directory(\n",
    "    \"Datasets/11 Flowers/test\",\n",
    "    target_size=(224,224),\n",
    "    batch_size=32,\n",
    "    class_mode='categorical',\n",
    "    subset='validation'\n",
    ")"
   ]
  },
  {
   "cell_type": "code",
   "execution_count": null,
   "id": "27ec09a5-5456-4484-a4d5-88b7a42e3d40",
   "metadata": {},
   "outputs": [
    {
     "name": "stderr",
     "output_type": "stream",
     "text": [
      "C:\\Users\\munje\\anaconda3\\Lib\\site-packages\\keras\\src\\trainers\\data_adapters\\py_dataset_adapter.py:121: UserWarning: Your `PyDataset` class should call `super().__init__(**kwargs)` in its constructor. `**kwargs` can include `workers`, `use_multiprocessing`, `max_queue_size`. Do not pass these arguments to `fit()`, as they will be ignored.\n",
      "  self._warn_if_super_not_called()\n"
     ]
    },
    {
     "name": "stdout",
     "output_type": "stream",
     "text": [
      "Epoch 1/10\n",
      "\u001b[1m73/82\u001b[0m \u001b[32m━━━━━━━━━━━━━━━━━\u001b[0m\u001b[37m━━━\u001b[0m \u001b[1m6s\u001b[0m 743ms/step - accuracy: 0.5292 - loss: 2.0691"
     ]
    }
   ],
   "source": [
    "model.fit(\n",
    "    train_datagen,\n",
    "    epochs=10,\n",
    "    validation_data=validation_datagen\n",
    ")"
   ]
  },
  {
   "cell_type": "code",
   "execution_count": null,
   "id": "bab817ad-d435-4327-9ff9-92e7d8eeb1b1",
   "metadata": {},
   "outputs": [],
   "source": [
    "test_loss ,  test_acc = model.evaluate(validation_datagen)"
   ]
  },
  {
   "cell_type": "code",
   "execution_count": null,
   "id": "01059002-4f6b-40d8-971e-a02f8f042e09",
   "metadata": {},
   "outputs": [],
   "source": [
    "x_val , y_val = next(validation_datagen)\n",
    "predictions = model.predict(x_val)"
   ]
  },
  {
   "cell_type": "code",
   "execution_count": null,
   "id": "6ef1834f-4eb8-441c-b931-bc9283a06307",
   "metadata": {},
   "outputs": [],
   "source": [
    "predicted_labels = np.argmax(predictions , axis=1)"
   ]
  },
  {
   "cell_type": "code",
   "execution_count": null,
   "id": "91bb5f06-401c-4177-9aa3-502c2cba320a",
   "metadata": {},
   "outputs": [],
   "source": [
    "class_labels = list(train_datagen.class_indices.keys())\n",
    "\n",
    "n = 10\n",
    "\n",
    "plt.figure(figsize=(20,6))\n",
    "for i in range(n):\n",
    "    ax = plt.subplot(2, n , i+1)\n",
    "    plt.imshow(x_val[i])\n",
    "\n",
    "    actual_label = class_labels[np.argmax(y_val[i])]\n",
    "    predicted_label = class_labels[predicted_labels[i]]\n",
    "\n",
    "    plt.title(f\"Actual : {actual_label} \\n Predicted: {predicted_label}\")\n",
    "    plt.axis('off')\n",
    "plt.show()"
   ]
  },
  {
   "cell_type": "code",
   "execution_count": null,
   "id": "a2be17dc-e050-451c-8f45-dd1e625e81c7",
   "metadata": {},
   "outputs": [],
   "source": []
  }
 ],
 "metadata": {
  "kernelspec": {
   "display_name": "Python 3 (ipykernel)",
   "language": "python",
   "name": "python3"
  },
  "language_info": {
   "codemirror_mode": {
    "name": "ipython",
    "version": 3
   },
   "file_extension": ".py",
   "mimetype": "text/x-python",
   "name": "python",
   "nbconvert_exporter": "python",
   "pygments_lexer": "ipython3",
   "version": "3.12.7"
  }
 },
 "nbformat": 4,
 "nbformat_minor": 5
}
